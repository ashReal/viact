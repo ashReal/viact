{
  "nbformat": 4,
  "nbformat_minor": 0,
  "metadata": {
    "colab": {
      "name": "ViAct Task 1",
      "provenance": [],
      "collapsed_sections": [],
      "mount_file_id": "1rg_w5M5HjfF107PATLJowV_-txntMtxd",
      "authorship_tag": "ABX9TyPlUTAbj7aFkKT44XMQdvtg",
      "include_colab_link": true
    },
    "kernelspec": {
      "name": "python3",
      "display_name": "Python 3"
    },
    "language_info": {
      "name": "python"
    }
  },
  "cells": [
    {
      "cell_type": "markdown",
      "metadata": {
        "id": "view-in-github",
        "colab_type": "text"
      },
      "source": [
        "<a href=\"https://colab.research.google.com/github/ashReal/viact/blob/main/ViAct_Task_1.ipynb\" target=\"_parent\"><img src=\"https://colab.research.google.com/assets/colab-badge.svg\" alt=\"Open In Colab\"/></a>"
      ]
    },
    {
      "cell_type": "code",
      "metadata": {
        "id": "tck6dLRe6cda"
      },
      "source": [
        "import json\n",
        "import pandas as pd"
      ],
      "execution_count": null,
      "outputs": []
    },
    {
      "cell_type": "code",
      "metadata": {
        "id": "alNhHtK88Aew"
      },
      "source": [
        ""
      ],
      "execution_count": null,
      "outputs": []
    },
    {
      "cell_type": "code",
      "metadata": {
        "id": "MjzFpUwx8Fj9"
      },
      "source": [
        "df = pd.read_csv(\"/content/drive/MyDrive/viact/interview/task1/oidv6-class-descriptions.csv\")"
      ],
      "execution_count": null,
      "outputs": []
    },
    {
      "cell_type": "code",
      "metadata": {
        "colab": {
          "base_uri": "https://localhost:8080/",
          "height": 204
        },
        "id": "JKgyFCi38Ne7",
        "outputId": "7561f3b0-931d-4f35-ebdf-bccb6bedb1e1"
      },
      "source": [
        "df.head()"
      ],
      "execution_count": null,
      "outputs": [
        {
          "output_type": "execute_result",
          "data": {
            "text/html": [
              "<div>\n",
              "<style scoped>\n",
              "    .dataframe tbody tr th:only-of-type {\n",
              "        vertical-align: middle;\n",
              "    }\n",
              "\n",
              "    .dataframe tbody tr th {\n",
              "        vertical-align: top;\n",
              "    }\n",
              "\n",
              "    .dataframe thead th {\n",
              "        text-align: right;\n",
              "    }\n",
              "</style>\n",
              "<table border=\"1\" class=\"dataframe\">\n",
              "  <thead>\n",
              "    <tr style=\"text-align: right;\">\n",
              "      <th></th>\n",
              "      <th>LabelName</th>\n",
              "      <th>DisplayName</th>\n",
              "    </tr>\n",
              "  </thead>\n",
              "  <tbody>\n",
              "    <tr>\n",
              "      <th>0</th>\n",
              "      <td>/m/0100nhbf</td>\n",
              "      <td>Sprenger's tulip</td>\n",
              "    </tr>\n",
              "    <tr>\n",
              "      <th>1</th>\n",
              "      <td>/m/0104x9kv</td>\n",
              "      <td>Vinegret</td>\n",
              "    </tr>\n",
              "    <tr>\n",
              "      <th>2</th>\n",
              "      <td>/m/0105jzwx</td>\n",
              "      <td>Dabu-dabu</td>\n",
              "    </tr>\n",
              "    <tr>\n",
              "      <th>3</th>\n",
              "      <td>/m/0105ld7g</td>\n",
              "      <td>Pistachio ice cream</td>\n",
              "    </tr>\n",
              "    <tr>\n",
              "      <th>4</th>\n",
              "      <td>/m/0105lxy5</td>\n",
              "      <td>Woku</td>\n",
              "    </tr>\n",
              "  </tbody>\n",
              "</table>\n",
              "</div>"
            ],
            "text/plain": [
              "     LabelName          DisplayName\n",
              "0  /m/0100nhbf     Sprenger's tulip\n",
              "1  /m/0104x9kv             Vinegret\n",
              "2  /m/0105jzwx            Dabu-dabu\n",
              "3  /m/0105ld7g  Pistachio ice cream\n",
              "4  /m/0105lxy5                 Woku"
            ]
          },
          "metadata": {
            "tags": []
          },
          "execution_count": 46
        }
      ]
    },
    {
      "cell_type": "code",
      "metadata": {
        "colab": {
          "base_uri": "https://localhost:8080/"
        },
        "id": "6I8n7Yc-8QR3",
        "outputId": "bb370080-8803-4d6f-a9d2-b435d8a4237c"
      },
      "source": [
        ""
      ],
      "execution_count": null,
      "outputs": [
        {
          "output_type": "stream",
          "text": [
            "/m/0104x9kv\n"
          ],
          "name": "stdout"
        }
      ]
    },
    {
      "cell_type": "code",
      "metadata": {
        "colab": {
          "base_uri": "https://localhost:8080/"
        },
        "id": "NaKUd9lh8doh",
        "outputId": "1a208b00-4e1d-417c-9528-094d03e84c37"
      },
      "source": [
        "print(df[df[\"LabelName\"]==\"/m/0104x9kv\"]['DisplayName'].values[0])"
      ],
      "execution_count": null,
      "outputs": [
        {
          "output_type": "stream",
          "text": [
            "Vinegret\n"
          ],
          "name": "stdout"
        }
      ]
    },
    {
      "cell_type": "code",
      "metadata": {
        "id": "duY5qGPhB_7E"
      },
      "source": [
        "file_path = \"/content/drive/MyDrive/viact/interview/task1/bbox_labels_600_hierarchy.json\"\n",
        "with open(file_path) as f:\n",
        "    data = json.loads(f.read())"
      ],
      "execution_count": null,
      "outputs": []
    },
    {
      "cell_type": "code",
      "metadata": {
        "id": "L_pdbkU-9TnV"
      },
      "source": [
        "def mid_to_class(mid_lst):\n",
        "  class_names=[]\n",
        "  try:\n",
        "    for mid in mid_lst:\n",
        "      class_name = df[df[\"LabelName\"]==mid]['DisplayName'].values[0]\n",
        "      class_names.append(class_name)\n",
        "  except:\n",
        "    class_names.append(\"Not Found in CSV\")\n",
        "  return class_names"
      ],
      "execution_count": null,
      "outputs": []
    },
    {
      "cell_type": "markdown",
      "metadata": {
        "id": "3F2Z9x_rR01g"
      },
      "source": [
        ""
      ]
    },
    {
      "cell_type": "code",
      "metadata": {
        "id": "-WwrgYg8tA-_"
      },
      "source": [
        "g=[]\n",
        "def print_dict(v,prefix=\"1\"):\n",
        "  if isinstance(v,dict):\n",
        "    for k, v2 in v.items():\n",
        "      p2 = \"{}\".format(prefix)\n",
        "      print_dict(v2,p2)\n",
        "  elif isinstance(v,list):\n",
        "    for i,v2 in enumerate(v):\n",
        "      p2 = \"{}.{}\".format(prefix,i)\n",
        "      print_dict(v2,p2)\n",
        "  else:\n",
        "    g.append([\"{}\".format(prefix),v])\n",
        "  return (g)\n",
        "\n",
        "\n",
        "\n",
        "\n",
        "\n",
        "\n"
      ],
      "execution_count": null,
      "outputs": []
    },
    {
      "cell_type": "code",
      "metadata": {
        "id": "VTVdkE_Am1m9"
      },
      "source": [
        "import time\n",
        "\n",
        "\n",
        "def find_parent(lst,value):\n",
        "  sortList =[]\n",
        "  if dict is None:\n",
        "    print (\"Not present in json\")\n",
        "    return\n",
        "  for i in lst:\n",
        "    if i[1] == value:\n",
        "\n",
        "     parent_mid_list = [j[1] for j in sortList if '.'.join(i[0].split('.')[:-1]) == j[0]]\n",
        "     \n",
        "     return mid_to_class(parent_mid_list)\n",
        "    else:\n",
        "      sortList.append(i)\n"
      ],
      "execution_count": null,
      "outputs": []
    },
    {
      "cell_type": "code",
      "metadata": {
        "id": "raDKCbOV33s1"
      },
      "source": [
        "\n",
        "\n",
        "def find_ancestor_list(lst,ancesterList=[]):\n",
        "\n",
        "  if len(lst)==1:\n",
        "    return ancesterList\n",
        "  else:\n",
        "    lst = '.'.join(lst.split('.')[:-1])\n",
        "    \n",
        "    ancesterList.append(lst)\n",
        "    return find_ancestor_list(lst,ancesterList)\n",
        "\n",
        "def find_ancestor(dict,value):\n",
        "  if dict is None:\n",
        "    print (\"Not present in json\")\n",
        "    return\n",
        "  sort_lst=[]\n",
        "  ancs_list_name=[]\n",
        "  ances_lst=[]\n",
        "  for i in dict:\n",
        "    if i[1] == value:\n",
        "      lst = i[0]\n",
        "      break\n",
        "    else:\n",
        "      sort_lst.append(i[0])\n",
        "  ances_lst = find_ancestor_list(lst,ances_lst)\n",
        "  for ances in ances_lst:\n",
        "\n",
        "    ancs_list_name.append(dict[sort_lst.index(ances)][1])\n",
        "\n",
        "  return mid_to_class(ancs_list_name)\n",
        "    \n",
        "\n"
      ],
      "execution_count": null,
      "outputs": []
    },
    {
      "cell_type": "code",
      "metadata": {
        "id": "aeOtXrfrm17e"
      },
      "source": [
        "import re\n",
        "def siblings(dict,val):\n",
        "  if dict is None:\n",
        "    print (\"Not present in json\")\n",
        "    return\n",
        "  for lst in dict:\n",
        "    if lst[1] == val:\n",
        "      str1 = '.'.join(lst[0].split('.')[:-1])\n",
        "      strRegEx = str1+\".\\d{1,2}$\"\n",
        "      break\n",
        "  sib_lst = []\n",
        "  for lst2 in dict:\n",
        "    if re.search(strRegEx, lst2[0]) is not None:\n",
        "      sib_lst.append(lst2[1])\n",
        "  return mid_to_class(sib_lst)\n"
      ],
      "execution_count": null,
      "outputs": []
    },
    {
      "cell_type": "code",
      "metadata": {
        "id": "IHs9exE2hP8r"
      },
      "source": [
        "def same_ancestors(dict,val1,val2):\n",
        "  ancesVal1 = find_ancestor(dict,val1)\n",
        "  ancesVal2 = find_ancestor(dict,val2)\n",
        "  if ancesVal1 == ancesVal2:\n",
        "    print(\"Same Ancestor\")\n",
        "  else:\n",
        "    print(\"Differnt Ancestors\")\n",
        "    return\n",
        "  return\n"
      ],
      "execution_count": null,
      "outputs": []
    },
    {
      "cell_type": "code",
      "metadata": {
        "colab": {
          "base_uri": "https://localhost:8080/"
        },
        "id": "N_aWuEw6lYq_",
        "outputId": "26def055-bf74-46c4-f0c8-33c701e70d58"
      },
      "source": [
        ""
      ],
      "execution_count": null,
      "outputs": [
        {
          "output_type": "stream",
          "text": [
            "Differnt Ancestors\n"
          ],
          "name": "stdout"
        }
      ]
    },
    {
      "cell_type": "code",
      "metadata": {
        "id": "Xmwu2oL-3ttL",
        "colab": {
          "base_uri": "https://localhost:8080/"
        },
        "outputId": "c2360fdb-d971-47fa-cfb6-2dedb6622c47"
      },
      "source": [
        "className = \"Kitchen utensil\"\n",
        "\n",
        "midName = df[df[\"DisplayName\"]==className]['LabelName'].values[0]\n",
        "className2 = \"Wok\"\n",
        "\n",
        "midName2 = df[df[\"DisplayName\"]==className2]['LabelName'].values[0]\n",
        "\n",
        "print((midName,midName2))\n",
        "g = print_dict(data)\n"
      ],
      "execution_count": null,
      "outputs": [
        {
          "output_type": "stream",
          "text": [
            "('/m/03hlz0c', '/m/084rd')\n"
          ],
          "name": "stdout"
        }
      ]
    },
    {
      "cell_type": "code",
      "metadata": {
        "colab": {
          "base_uri": "https://localhost:8080/"
        },
        "id": "64x_0houtIdL",
        "outputId": "64c21136-ac28-4711-8909-772c928a6bfa"
      },
      "source": [
        "parent_lst = find_parent(g,midName)\n",
        "parent_lst"
      ],
      "execution_count": null,
      "outputs": [
        {
          "output_type": "execute_result",
          "data": {
            "text/plain": [
              "['Kitchenware']"
            ]
          },
          "metadata": {
            "tags": []
          },
          "execution_count": 161
        }
      ]
    },
    {
      "cell_type": "code",
      "metadata": {
        "id": "AHQZ61IW1wsI",
        "colab": {
          "base_uri": "https://localhost:8080/"
        },
        "outputId": "66ecd30e-30f1-4449-d925-0959822a973c"
      },
      "source": [
        "ances_list = find_ancestor(g,midName)\n",
        "ances_list"
      ],
      "execution_count": null,
      "outputs": [
        {
          "output_type": "execute_result",
          "data": {
            "text/plain": [
              "['Kitchenware', 'Not Found in CSV']"
            ]
          },
          "metadata": {
            "tags": []
          },
          "execution_count": 162
        }
      ]
    },
    {
      "cell_type": "code",
      "metadata": {
        "colab": {
          "base_uri": "https://localhost:8080/"
        },
        "id": "sQss3qmDx5bj",
        "outputId": "21887e73-9de0-4fda-ab93-dccd3f22d64c"
      },
      "source": [
        "siblings(g,midName)"
      ],
      "execution_count": null,
      "outputs": [
        {
          "output_type": "execute_result",
          "data": {
            "text/plain": [
              "['Kitchen utensil',\n",
              " 'Tableware',\n",
              " 'Frying pan',\n",
              " 'Wok',\n",
              " 'Spice rack',\n",
              " 'Kitchen appliance',\n",
              " 'Kitchen utensil',\n",
              " 'Tableware',\n",
              " 'Frying pan',\n",
              " 'Wok',\n",
              " 'Spice rack',\n",
              " 'Kitchen appliance',\n",
              " 'Kitchen utensil',\n",
              " 'Tableware',\n",
              " 'Frying pan',\n",
              " 'Wok',\n",
              " 'Spice rack',\n",
              " 'Kitchen appliance',\n",
              " 'Kitchen utensil',\n",
              " 'Tableware',\n",
              " 'Frying pan',\n",
              " 'Wok',\n",
              " 'Spice rack',\n",
              " 'Kitchen appliance',\n",
              " 'Kitchen utensil',\n",
              " 'Tableware',\n",
              " 'Frying pan',\n",
              " 'Wok',\n",
              " 'Spice rack',\n",
              " 'Kitchen appliance',\n",
              " 'Kitchen utensil',\n",
              " 'Tableware',\n",
              " 'Frying pan',\n",
              " 'Wok',\n",
              " 'Spice rack',\n",
              " 'Kitchen appliance',\n",
              " 'Kitchen utensil',\n",
              " 'Tableware',\n",
              " 'Frying pan',\n",
              " 'Wok',\n",
              " 'Spice rack',\n",
              " 'Kitchen appliance',\n",
              " 'Kitchen utensil',\n",
              " 'Tableware',\n",
              " 'Frying pan',\n",
              " 'Wok',\n",
              " 'Spice rack',\n",
              " 'Kitchen appliance',\n",
              " 'Kitchen utensil',\n",
              " 'Tableware',\n",
              " 'Frying pan',\n",
              " 'Wok',\n",
              " 'Spice rack',\n",
              " 'Kitchen appliance']"
            ]
          },
          "metadata": {
            "tags": []
          },
          "execution_count": 163
        }
      ]
    },
    {
      "cell_type": "code",
      "metadata": {
        "colab": {
          "base_uri": "https://localhost:8080/"
        },
        "id": "jz6WRsXYzzuh",
        "outputId": "51a9443e-4db5-47f4-c325-7822627208c4"
      },
      "source": [
        "same_ancestors(g,midName,midName2)"
      ],
      "execution_count": null,
      "outputs": [
        {
          "output_type": "stream",
          "text": [
            "Same Ancestor\n"
          ],
          "name": "stdout"
        }
      ]
    },
    {
      "cell_type": "code",
      "metadata": {
        "id": "e-C08K8w0et9"
      },
      "source": [
        ""
      ],
      "execution_count": null,
      "outputs": []
    }
  ]
}